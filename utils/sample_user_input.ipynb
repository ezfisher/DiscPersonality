{
 "cells": [
  {
   "cell_type": "code",
   "execution_count": 1,
   "metadata": {},
   "outputs": [],
   "source": [
    "import json"
   ]
  },
  {
   "cell_type": "code",
   "execution_count": 2,
   "metadata": {},
   "outputs": [
    {
     "name": "stdout",
     "output_type": "stream",
     "text": [
      "{'restrained': 'A', 'forceful': 'B', 'careful': 'C', 'expressive': 'D'}\n",
      "{'B': 'D', 'D': 'I', 'A': 'S', 'C': 'C'}\n"
     ]
    }
   ],
   "source": [
    "test_questions_path = '/home/polarbear/PersonalGithub/DiscPersonality/utils/json/test_questions.json'\n",
    "scoring_key_path = '/home/polarbear/PersonalGithub/DiscPersonality/utils/json/scoring_key.json'\n",
    "\n",
    "with open(test_questions_path) as f:\n",
    "    test_questions = json.load(f)\n",
    "with open(scoring_key_path) as f:\n",
    "    scoring_key = json.load(f)\n",
    "\n",
    "print(test_questions['1'])\n",
    "print(scoring_key['1'])"
   ]
  },
  {
   "cell_type": "code",
   "execution_count": 3,
   "metadata": {},
   "outputs": [
    {
     "ename": "TypeError",
     "evalue": "test_intake() missing 1 required positional argument: 'test_questions'",
     "output_type": "error",
     "traceback": [
      "\u001b[0;31m---------------------------------------------------------------------------\u001b[0m",
      "\u001b[0;31mTypeError\u001b[0m                                 Traceback (most recent call last)",
      "Input \u001b[0;32mIn [3]\u001b[0m, in \u001b[0;36m<cell line: 34>\u001b[0;34m()\u001b[0m\n\u001b[1;32m     29\u001b[0m             tester_results\u001b[38;5;241m.\u001b[39mappend(tester_answer)\n\u001b[1;32m     32\u001b[0m     \u001b[38;5;28;01mreturn\u001b[39;00m tester_results\n\u001b[0;32m---> 34\u001b[0m intake \u001b[38;5;241m=\u001b[39m \u001b[43mtest_intake\u001b[49m\u001b[43m(\u001b[49m\u001b[43m)\u001b[49m\n",
      "\u001b[0;31mTypeError\u001b[0m: test_intake() missing 1 required positional argument: 'test_questions'"
     ]
    }
   ],
   "source": [
    "#function to record user answers from test\n",
    "\n",
    "def test_intake(test_questions):\n",
    "\n",
    "    #empty list\n",
    "    tester_results = []\n",
    "\n",
    "    #for loop (iteration) through dictionary, requests user answer\n",
    "    for i in test_questions.keys():\n",
    "        print('enter a word that aligns with you: ')\n",
    "        print(test_questions[i].keys())\n",
    "        tester_answer = input()\n",
    "    \n",
    "#'in' checks if something is in list\n",
    "#checks to see if user answer is in the dictionary, if it is, it appends users answer to blank list (records user score)\n",
    "#returns list of users answers (results)\n",
    "        if tester_answer in test_questions[i].keys():\n",
    "            tester_results.append(tester_answer)\n",
    "\n",
    "        elif tester_answer == 'q':\n",
    "            return tester_results\n",
    "\n",
    "        elif tester_answer not in test_questions[i].keys():\n",
    "            while tester_answer not in test_questions[i].keys(): \n",
    "                print (f\"response not valid, please try again\")\n",
    "                print('enter a word that aligns with you: ')\n",
    "                print(test_questions[i].keys())\n",
    "                tester_answer = input()\n",
    "            tester_results.append(tester_answer)\n",
    "\n",
    "\n",
    "    return tester_results"
   ]
  },
  {
   "cell_type": "code",
   "execution_count": 9,
   "metadata": {},
   "outputs": [],
   "source": [
    "def check_answer_key(key_number):\n",
    "    knum = str(key_number)\n",
    "    input_word = input()\n",
    "    if input_word == 'quit':\n",
    "        return None\n",
    "    elif input_word in test_questions[knum].keys():\n",
    "        return test_questions[knum][input_word]\n",
    "    else:\n",
    "        return None"
   ]
  },
  {
   "cell_type": "code",
   "execution_count": 6,
   "metadata": {},
   "outputs": [],
   "source": [
    "def prompt_user(key_number):\n",
    "    knum = str(key_number)\n",
    "    test_word = test_questions[knum]\n",
    "    print(f'enter a word that aligns with you: {test_word}')\n",
    "    "
   ]
  },
  {
   "cell_type": "code",
   "execution_count": 10,
   "metadata": {},
   "outputs": [
    {
     "name": "stdout",
     "output_type": "stream",
     "text": [
      "enter a word that aligns with you: {'restrained': 'A', 'forceful': 'B', 'careful': 'C', 'expressive': 'D'}\n"
     ]
    }
   ],
   "source": [
    "'''\n",
    "num_questions = 24\n",
    "for i in range(1, num_questions+1):\n",
    "    prompt_user(i)\n",
    "    check answer key\n",
    "    get score\n",
    "    append score to list\n",
    "'''"
   ]
  }
 ],
 "metadata": {
  "kernelspec": {
   "display_name": "base",
   "language": "python",
   "name": "python3"
  },
  "language_info": {
   "codemirror_mode": {
    "name": "ipython",
    "version": 3
   },
   "file_extension": ".py",
   "mimetype": "text/x-python",
   "name": "python",
   "nbconvert_exporter": "python",
   "pygments_lexer": "ipython3",
   "version": "3.9.12"
  }
 },
 "nbformat": 4,
 "nbformat_minor": 2
}
