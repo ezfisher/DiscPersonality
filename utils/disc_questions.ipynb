{
 "cells": [
  {
   "cell_type": "code",
   "execution_count": 2,
   "metadata": {},
   "outputs": [],
   "source": [
    "import numpy as np\n",
    "import json"
   ]
  },
  {
   "cell_type": "code",
   "execution_count": 3,
   "metadata": {},
   "outputs": [],
   "source": [
    "words = {\n",
    "    1 : {\n",
    "        'restrained' : 'A',\n",
    "        'forceful' : 'B',\n",
    "        'careful' : 'C',\n",
    "        'expressive' : 'D'\n",
    "    },\n",
    "    2 : {\n",
    "        'pioneering' : 'A',\n",
    "        'correct' : 'B',\n",
    "        'exciting' : 'C',\n",
    "        'satisfied' : 'D'\n",
    "    }\n",
    "}"
   ]
  },
  {
   "cell_type": "code",
   "execution_count": 4,
   "metadata": {},
   "outputs": [],
   "source": [
    "scores = {\n",
    "    1 : {\n",
    "        'B' : 'D',\n",
    "        'D' : 'I',\n",
    "        'A' : 'S',\n",
    "        'C' : 'C'\n",
    "    },\n",
    "    2 : {\n",
    "        'A' : 'D',\n",
    "        'C' : 'I',\n",
    "        'D' : 'S',\n",
    "        'B' : 'C'\n",
    "    }\n",
    "}"
   ]
  },
  {
   "cell_type": "code",
   "execution_count": 5,
   "metadata": {},
   "outputs": [],
   "source": [
    "user_answers = []"
   ]
  },
  {
   "cell_type": "code",
   "execution_count": 18,
   "metadata": {},
   "outputs": [
    {
     "name": "stdout",
     "output_type": "stream",
     "text": [
      "enter a word that aligns with you: \n",
      "{'restrained': 'A', 'forceful': 'B', 'careful': 'C', 'expressive': 'D'}\n",
      "enter a word that aligns with you: \n",
      "{'pioneering': 'A', 'correct': 'B', 'exciting': 'C', 'satisfied': 'D'}\n"
     ]
    }
   ],
   "source": [
    "for i in words.keys():\n",
    "    print('enter a word that aligns with you: ')\n",
    "    print(words[i])\n",
    "    word = input()\n",
    "    score = scores[i][word]\n",
    "    user_answers.append(score)"
   ]
  },
  {
   "cell_type": "code",
   "execution_count": 16,
   "metadata": {},
   "outputs": [
    {
     "name": "stdout",
     "output_type": "stream",
     "text": [
      "I\n"
     ]
    }
   ],
   "source": [
    "print(score)"
   ]
  },
  {
   "cell_type": "code",
   "execution_count": 8,
   "metadata": {},
   "outputs": [
    {
     "name": "stdout",
     "output_type": "stream",
     "text": [
      "[]\n"
     ]
    },
    {
     "ename": "ZeroDivisionError",
     "evalue": "division by zero",
     "output_type": "error",
     "traceback": [
      "\u001b[0;31m---------------------------------------------------------------------------\u001b[0m",
      "\u001b[0;31mZeroDivisionError\u001b[0m                         Traceback (most recent call last)",
      "\u001b[1;32m/Users/kali/Downloads/disc_questions.ipynb Cell 6\u001b[0m line \u001b[0;36m2\n\u001b[1;32m      <a href='vscode-notebook-cell:/Users/kali/Downloads/disc_questions.ipynb#W5sZmlsZQ%3D%3D?line=0'>1</a>\u001b[0m \u001b[39mprint\u001b[39m(user_answers)\n\u001b[0;32m----> <a href='vscode-notebook-cell:/Users/kali/Downloads/disc_questions.ipynb#W5sZmlsZQ%3D%3D?line=1'>2</a>\u001b[0m \u001b[39mprint\u001b[39m(user_answers\u001b[39m.\u001b[39;49mcount(\u001b[39m'\u001b[39;49m\u001b[39mD\u001b[39;49m\u001b[39m'\u001b[39;49m)\u001b[39m/\u001b[39;49m\u001b[39mlen\u001b[39;49m(user_answers)\u001b[39m*\u001b[39m\u001b[39m100\u001b[39m)\n\u001b[1;32m      <a href='vscode-notebook-cell:/Users/kali/Downloads/disc_questions.ipynb#W5sZmlsZQ%3D%3D?line=2'>3</a>\u001b[0m \u001b[39mprint\u001b[39m(user_answers\u001b[39m.\u001b[39mcount(\u001b[39m'\u001b[39m\u001b[39mI\u001b[39m\u001b[39m'\u001b[39m)\u001b[39m/\u001b[39m\u001b[39mlen\u001b[39m(user_answers)\u001b[39m*\u001b[39m\u001b[39m100\u001b[39m)\n\u001b[1;32m      <a href='vscode-notebook-cell:/Users/kali/Downloads/disc_questions.ipynb#W5sZmlsZQ%3D%3D?line=3'>4</a>\u001b[0m \u001b[39mprint\u001b[39m(user_answers\u001b[39m.\u001b[39mcount(\u001b[39m'\u001b[39m\u001b[39mS\u001b[39m\u001b[39m'\u001b[39m)\u001b[39m/\u001b[39m\u001b[39mlen\u001b[39m(user_answers)\u001b[39m*\u001b[39m\u001b[39m100\u001b[39m)\n",
      "\u001b[0;31mZeroDivisionError\u001b[0m: division by zero"
     ]
    }
   ],
   "source": [
    "print(user_answers)\n",
    "print(user_answers.count('D')/len(user_answers)*100)\n",
    "print(user_answers.count('I')/len(user_answers)*100)\n",
    "print(user_answers.count('S')/len(user_answers)*100)\n",
    "print(user_answers.count('C')/len(user_answers)*100)"
   ]
  },
  {
   "cell_type": "code",
   "execution_count": null,
   "metadata": {},
   "outputs": [],
   "source": []
  }
 ],
 "metadata": {
  "kernelspec": {
   "display_name": "base",
   "language": "python",
   "name": "python3"
  },
  "language_info": {
   "codemirror_mode": {
    "name": "ipython",
    "version": 3
   },
   "file_extension": ".py",
   "mimetype": "text/x-python",
   "name": "python",
   "nbconvert_exporter": "python",
   "pygments_lexer": "ipython3",
   "version": "3.11.5"
  }
 },
 "nbformat": 4,
 "nbformat_minor": 2
}
