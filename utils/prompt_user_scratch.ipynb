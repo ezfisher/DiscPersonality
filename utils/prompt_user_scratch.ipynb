{
 "cells": [
  {
   "cell_type": "code",
   "execution_count": 1,
   "metadata": {},
   "outputs": [],
   "source": [
    "import json\n",
    "import numpy as np"
   ]
  },
  {
   "cell_type": "code",
   "execution_count": 2,
   "metadata": {},
   "outputs": [
    {
     "name": "stdout",
     "output_type": "stream",
     "text": [
      "{'restrained': 'A', 'forceful': 'B', 'careful': 'C', 'expressive': 'D'}\n",
      "{'B': 'D', 'D': 'I', 'A': 'S', 'C': 'C'}\n"
     ]
    }
   ],
   "source": [
    "test_questions_path = '../src/utils/json/test_questions.json'\n",
    "scoring_key_path = '../src/utils/json/scoring_key.json'\n",
    "\n",
    "with open(test_questions_path) as f:\n",
    "    test_questions = json.load(f)\n",
    "\n",
    "with open(scoring_key_path) as f:\n",
    "    scoring_key = json.load(f)\n",
    "\n",
    "print(test_questions['1'])\n",
    "print(scoring_key['1'])"
   ]
  },
  {
   "cell_type": "code",
   "execution_count": 3,
   "metadata": {},
   "outputs": [],
   "source": [
    "#function for  checking if user input is an input in dictionary \n",
    "def validate_answer(key, answer):\n",
    "    return answer in test_questions[key].keys()\n",
    "\n",
    "#function for asking question to prompt user response\n",
    "def ask_question(key):\n",
    "    print(f'Enter the word that most aligns with you: {test_questions[key]}')\n",
    "\n",
    "#function for recording user test score\n",
    "# assigns D, I, S, or C based on the input answer\n",
    "def score_input(key, answer):\n",
    "    answer_key = test_questions[key][answer]\n",
    "    return scoring_key[key][answer_key]\n",
    "\n",
    "#function for adding up user score\n",
    "def tally_scores(scores):\n",
    "    scores = np.array(scores)\n",
    "    test_scores = {\n",
    "        'D' : np.count_nonzero(scores == 'D'),\n",
    "        'I' : np.count_nonzero(scores == 'I'),\n",
    "        'S' : np.count_nonzero(scores == 'S'),\n",
    "        'C' : np.count_nonzero(scores == 'C'),\n",
    "    }\n",
    "    return test_scores"
   ]
  },
  {
   "cell_type": "code",
   "execution_count": 4,
   "metadata": {},
   "outputs": [
    {
     "name": "stdout",
     "output_type": "stream",
     "text": [
      "Enter the word that most aligns with you: {'restrained': 'A', 'forceful': 'B', 'careful': 'C', 'expressive': 'D'}\n",
      "correct\n",
      "Enter the word that most aligns with you: {'pioneering': 'A', 'correct': 'B', 'exciting': 'C', 'satisfied': 'D'}\n",
      "correct\n",
      "Enter the word that most aligns with you: {'willing': 'C', 'animated': 'B', 'bold': 'A', 'precise': 'D'}\n",
      "invalid word, answer again\n",
      "Enter the word that most aligns with you: {'willing': 'C', 'animated': 'B', 'bold': 'A', 'precise': 'D'}\n",
      "{'D': 0, 'I': 0, 'S': 0, 'C': 2}\n"
     ]
    }
   ],
   "source": [
    "i = 1\n",
    "num_questions = len(test_questions.keys())\n",
    "scores = []\n",
    "\n",
    "while i <= num_questions:\n",
    "    ask_question(str(i))\n",
    "    answer = input()\n",
    "    if answer == 'quit':\n",
    "        test_scores = tally_scores(scores)\n",
    "        print(test_scores)\n",
    "        break\n",
    "    # else:\n",
    "    if validate_answer(str(i), answer=answer):\n",
    "        print('correct')\n",
    "        score = score_input(str(i), answer)\n",
    "        scores.append(score)\n",
    "        if i == num_questions:\n",
    "            test_scores = tally_scores(scores)\n",
    "            print(test_scores)\n",
    "        i += 1\n",
    "    else:\n",
    "        print('invalid word, answer again')\n"
   ]
  },
  {
   "cell_type": "code",
   "execution_count": 6,
   "metadata": {},
   "outputs": [
    {
     "name": "stdout",
     "output_type": "stream",
     "text": [
      "C\n"
     ]
    }
   ],
   "source": [
    "print(test_questions['1']['careful'])"
   ]
  },
  {
   "cell_type": "code",
   "execution_count": null,
   "metadata": {},
   "outputs": [],
   "source": []
  },
  {
   "cell_type": "code",
   "execution_count": null,
   "metadata": {},
   "outputs": [],
   "source": []
  }
 ],
 "metadata": {
  "kernelspec": {
   "display_name": "base",
   "language": "python",
   "name": "python3"
  },
  "language_info": {
   "codemirror_mode": {
    "name": "ipython",
    "version": 3
   },
   "file_extension": ".py",
   "mimetype": "text/x-python",
   "name": "python",
   "nbconvert_exporter": "python",
   "pygments_lexer": "ipython3",
   "version": "3.11.5"
  }
 },
 "nbformat": 4,
 "nbformat_minor": 2
}
