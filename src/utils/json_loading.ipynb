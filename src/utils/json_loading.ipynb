{
 "cells": [
  {
   "cell_type": "code",
   "execution_count": 1,
   "metadata": {},
   "outputs": [],
   "source": [
    "import json"
   ]
  },
  {
   "cell_type": "code",
   "execution_count": 2,
   "metadata": {},
   "outputs": [
    {
     "name": "stdout",
     "output_type": "stream",
     "text": [
      "{'restrained': 'A', 'forceful': 'B', 'careful': 'C', 'expressive': 'D'}\n",
      "{'B': 'D', 'D': 'I', 'A': 'S', 'C': 'C'}\n"
     ]
    }
   ],
   "source": [
    "test_questions_path = '/home/polarbear/PersonalGithub/DiscPersonality/utils/json/test_questions.json'\n",
    "scoring_key_path = 'utils/json/scoring_key.json'\n",
    "\n",
    "with open(test_questions_path) as f:\n",
    "    test_questions = json.load(f)\n",
    "with open(scoring_key_path) as f:\n",
    "    scoring_key = json.load(f)\n",
    "\n",
    "print(test_questions['1'])\n",
    "print(scoring_key['1'])"
   ]
  },
  {
   "cell_type": "code",
   "execution_count": 3,
   "metadata": {},
   "outputs": [],
   "source": [
    "sample_input_words = ['restrained', 'pioneering', 'willing', 'argumentative']"
   ]
  },
  {
   "cell_type": "code",
   "execution_count": 4,
   "metadata": {},
   "outputs": [
    {
     "name": "stdout",
     "output_type": "stream",
     "text": [
      "{'1': 'restrained', '2': 'pioneering', '3': 'willing', '4': 'argumentative'}\n"
     ]
    }
   ],
   "source": [
    "our_lookup = {}\n",
    "for i, w in enumerate(sample_input_words):\n",
    "    our_lookup[str(i+1)] = w\n",
    "print(our_lookup)"
   ]
  },
  {
   "cell_type": "code",
   "execution_count": 6,
   "metadata": {},
   "outputs": [
    {
     "name": "stdout",
     "output_type": "stream",
     "text": [
      "input answer:  A\n",
      "score:  S\n",
      "input answer:  A\n",
      "score:  D\n",
      "input answer:  C\n",
      "score:  D\n",
      "input answer:  A\n",
      "score:  D\n"
     ]
    }
   ],
   "source": [
    "question_numbers = list(our_lookup.keys())\n",
    "\n",
    "for num in question_numbers:\n",
    "    input_word = our_lookup[num]\n",
    "    answer = test_questions[num][input_word]\n",
    "    print(\"input answer: \", answer)\n",
    "    score = scoring_key[num][answer]\n",
    "    print(\"score: \", score)"
   ]
  },
  {
   "cell_type": "code",
   "execution_count": null,
   "metadata": {},
   "outputs": [],
   "source": []
  }
 ],
 "metadata": {
  "kernelspec": {
   "display_name": "base",
   "language": "python",
   "name": "python3"
  },
  "language_info": {
   "codemirror_mode": {
    "name": "ipython",
    "version": 3
   },
   "file_extension": ".py",
   "mimetype": "text/x-python",
   "name": "python",
   "nbconvert_exporter": "python",
   "pygments_lexer": "ipython3",
   "version": "3.9.12"
  }
 },
 "nbformat": 4,
 "nbformat_minor": 2
}
