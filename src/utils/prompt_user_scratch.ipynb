{
 "cells": [
  {
   "cell_type": "code",
   "execution_count": 1,
   "metadata": {},
   "outputs": [],
   "source": [
    "import json\n",
    "import numpy as np"
   ]
  },
  {
   "cell_type": "code",
   "execution_count": 2,
   "metadata": {},
   "outputs": [
    {
     "name": "stdout",
     "output_type": "stream",
     "text": [
      "{'restrained': 'A', 'forceful': 'B', 'careful': 'C', 'expressive': 'D'}\n",
      "{'B': 'D', 'D': 'I', 'A': 'S', 'C': 'C'}\n",
      "24\n"
     ]
    }
   ],
   "source": [
    "test_questions_path = 'json/test_questions.json'\n",
    "scoring_key_path = 'json/scoring_key.json'\n",
    "\n",
    "with open(test_questions_path) as f:\n",
    "    test_questions = json.load(f)\n",
    "\n",
    "with open(scoring_key_path) as f:\n",
    "    scoring_key = json.load(f)\n",
    "\n",
    "print(test_questions['1'])\n",
    "print(scoring_key['1'])\n",
    "print(len(test_questions.keys()))"
   ]
  },
  {
   "cell_type": "code",
   "execution_count": 3,
   "metadata": {},
   "outputs": [],
   "source": [
    "def validate_answer(key, answer):\n",
    "    return answer in test_questions[key].keys()\n",
    "\n",
    "def ask_question(key):\n",
    "    print(f'{(int(key))} Enter the word that most aligns with you: {test_questions[key]}')\n",
    "\n",
    "def score_input(key, answer):\n",
    "    answer_key = test_questions[key][answer]\n",
    "    return scoring_key[key][answer_key]\n",
    "\n",
    "def tally_scores(scores, len_test=24):\n",
    "    scores = np.array(scores)\n",
    "    test_scores = {\n",
    "        'D' : np.count_nonzero(scores == 'D') / len_test,\n",
    "        'I' : np.count_nonzero(scores == 'I') / len_test,\n",
    "        'S' : np.count_nonzero(scores == 'S') / len_test,\n",
    "        'C' : np.count_nonzero(scores == 'C') / len_test,\n",
    "    }\n",
    "    return test_scores\n",
    "\n",
    "def format_test_scores(test_scores):\n",
    "    for k, v in test_scores.items():\n",
    "        test_scores[k] = f'{round(v * 100, 2)}%'\n",
    "    return test_scores"
   ]
  },
  {
   "cell_type": "code",
   "execution_count": 4,
   "metadata": {},
   "outputs": [
    {
     "name": "stdout",
     "output_type": "stream",
     "text": [
      "1 Enter the word that most aligns with you: {'restrained': 'A', 'forceful': 'B', 'careful': 'C', 'expressive': 'D'}\n",
      "invalid word, answer again\n",
      "1 Enter the word that most aligns with you: {'restrained': 'A', 'forceful': 'B', 'careful': 'C', 'expressive': 'D'}\n",
      "correct\n",
      "2 Enter the word that most aligns with you: {'pioneering': 'A', 'correct': 'B', 'exciting': 'C', 'satisfied': 'D'}\n",
      "correct\n",
      "3 Enter the word that most aligns with you: {'willing': 'C', 'animated': 'B', 'bold': 'A', 'precise': 'D'}\n",
      "correct\n",
      "4 Enter the word that most aligns with you: {'argumentative': 'A', 'doubting': 'D', 'indecisive': 'C', 'unpredictable': 'B'}\n",
      "correct\n",
      "5 Enter the word that most aligns with you: {'respectful': 'D', 'out-going': 'B', 'patient': 'C', 'daring': 'A'}\n",
      "correct\n",
      "6 Enter the word that most aligns with you: {'persuasive': 'B', 'self-reliant': 'A', 'logical': 'D', 'gentle': 'C'}\n",
      "correct\n",
      "7 Enter the word that most aligns with you: {'cautious': 'C', 'even-tempered': 'D', 'decisive': 'B', 'life-of-the-party': 'A'}\n",
      "correct\n",
      "8 Enter the word that most aligns with you: {'popular': 'B', 'assertive': 'A', 'perfectionist': 'D', 'generous': 'C'}\n",
      "correct\n",
      "9 Enter the word that most aligns with you: {'colorful': 'D', 'modest': 'A', 'easy-going': 'C', 'unyielding': 'B'}\n",
      "invalid word, answer again\n",
      "9 Enter the word that most aligns with you: {'colorful': 'D', 'modest': 'A', 'easy-going': 'C', 'unyielding': 'B'}\n",
      "correct\n",
      "10 Enter the word that most aligns with you: {'systematic': 'C', 'optimistic': 'B', 'persistent': 'D', 'accommodating': 'A'}\n",
      "invalid word, answer again\n",
      "10 Enter the word that most aligns with you: {'systematic': 'C', 'optimistic': 'B', 'persistent': 'D', 'accommodating': 'A'}\n",
      "{'D': '8.33%', 'I': '12.5%', 'S': '12.5%', 'C': '4.17%'}\n"
     ]
    }
   ],
   "source": [
    "i = 1\n",
    "num_questions = len(test_questions.keys())\n",
    "scores = []\n",
    "\n",
    "while i <= num_questions:\n",
    "    ask_question(str(i))\n",
    "    answer = input()\n",
    "    if answer == 'quit':\n",
    "        test_scores = tally_scores(scores)\n",
    "        test_scores = format_test_scores(test_scores)\n",
    "        print(test_scores)\n",
    "        break\n",
    "    # else:\n",
    "    if validate_answer(str(i), answer=answer):\n",
    "        print('correct')\n",
    "        score = score_input(str(i), answer)\n",
    "        scores.append(score)\n",
    "        if i == num_questions:\n",
    "            test_scores = tally_scores(scores)\n",
    "            test_scores = format_test_scores(test_scores)\n",
    "            print(test_scores)\n",
    "        i += 1\n",
    "    else:\n",
    "        print('invalid word, answer again')\n"
   ]
  },
  {
   "cell_type": "code",
   "execution_count": 8,
   "metadata": {},
   "outputs": [
    {
     "name": "stdout",
     "output_type": "stream",
     "text": [
      "rosie 1\n",
      "harper 2\n",
      "tennessee 3\n",
      "rosie 1\n",
      "harper 2\n",
      "tennessee 3\n"
     ]
    }
   ],
   "source": [
    "sample_dict = {'rosie' : 1, 'harper' : 2, 'tennessee' : 3}\n",
    "for k, v in sample_dict.items():\n",
    "    print(k, v)\n",
    "\n",
    "for polar, bear in sample_dict.items():\n",
    "    print(polar, bear)"
   ]
  },
  {
   "cell_type": "code",
   "execution_count": null,
   "metadata": {},
   "outputs": [],
   "source": []
  }
 ],
 "metadata": {
  "kernelspec": {
   "display_name": "base",
   "language": "python",
   "name": "python3"
  },
  "language_info": {
   "codemirror_mode": {
    "name": "ipython",
    "version": 3
   },
   "file_extension": ".py",
   "mimetype": "text/x-python",
   "name": "python",
   "nbconvert_exporter": "python",
   "pygments_lexer": "ipython3",
   "version": "3.9.12"
  }
 },
 "nbformat": 4,
 "nbformat_minor": 2
}
