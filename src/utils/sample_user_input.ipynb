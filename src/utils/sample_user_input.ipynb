{
 "cells": [
  {
   "cell_type": "code",
   "execution_count": 9,
   "metadata": {},
   "outputs": [],
   "source": [
    "import json"
   ]
  },
  {
   "cell_type": "code",
   "execution_count": null,
   "metadata": {},
   "outputs": [],
   "source": [
    "\"\"\"step 1: created a json for the test qs and the score\"\"\""
   ]
  },
  {
   "cell_type": "code",
   "execution_count": 10,
   "metadata": {},
   "outputs": [
    {
     "name": "stdout",
     "output_type": "stream",
     "text": [
      "{'restrained': 'A', 'forceful': 'B', 'careful': 'C', 'expressive': 'D'}\n",
      "{'B': 'D', 'D': 'I', 'A': 'S', 'C': 'C'}\n"
     ]
    }
   ],
   "source": [
    "test_questions_path = '/Users/kali/Documents/GitHub/DiscPersonality/utils/json/test_questions.json'\n",
    "scoring_key_path = '/Users/kali/Documents/GitHub/DiscPersonality/utils/json/scoring_key.json'\n",
    "\n",
    "with open(test_questions_path) as f:\n",
    "    test_questions = json.load(f)\n",
    "with open(scoring_key_path) as f:\n",
    "    scoring_key = json.load(f)\n",
    "\n",
    "print(test_questions['1'])\n",
    "print(scoring_key['1'])\n",
    "\n",
    "#function to record user answers from test\n",
    "\n",
    "def test_intake():\n",
    "\n",
    "    #empty list\n",
    "    tester_results = []\n",
    "\n",
    "    #for loop (iteration) through dictionary, requests user answer\n",
    "    for i in test_q.keys():\n",
    "        print('enter a word that aligns with you: ')\n",
    "        print(test_q[i].keys())\n",
    "        tester_answer = input()"
   ]
  },
  {
   "cell_type": "code",
   "execution_count": 11,
   "metadata": {},
   "outputs": [],
   "source": [
    "#function to record user answers from test\n",
    "\n",
    "def test_intake(test_questions):\n",
    "\n",
    "    #empty list\n",
    "    tester_results = []\n",
    "\n",
    "    #for loop (iteration) through dictionary, requests user answer\n",
    "    for i in test_questions.keys():\n",
    "        print('enter a word that aligns with you: ')\n",
    "        print(test_questions[i].keys())\n",
    "        tester_answer = input()\n",
    "    \n",
    "#'in' checks if something is in list\n",
    "#checks to see if user answer is in the dictionary, if it is, it appends users answer to blank list (records user score)\n",
    "#returns list of users answers (results)\n",
    "        if tester_answer in test_questions[i].keys():\n",
    "            tester_results.append(tester_answer)\n",
    "\n",
    "        elif tester_answer == 'q':\n",
    "            return tester_results\n",
    "\n",
    "        elif tester_answer not in test_questions[i].keys():\n",
    "            while tester_answer not in test_questions[i].keys(): \n",
    "                print (f\"response not valid, please try again\")\n",
    "                print('enter a word that aligns with you: ')\n",
    "                print(test_questions[i].keys())\n",
    "                tester_answer = input()\n",
    "            tester_results.append(tester_answer)\n",
    "\n",
    "\n",
    "    return tester_results"
   ]
  },
  {
   "cell_type": "code",
   "execution_count": 12,
   "metadata": {},
   "outputs": [],
   "source": [
    "def check_answer_key(key_number):\n",
    "    knum = str(key_number)\n",
    "    input_word = input()\n",
    "    if input_word == 'quit':\n",
    "        return None\n",
    "    elif input_word in test_questions[knum].keys():\n",
    "        return test_questions[knum][input_word]\n",
    "    else:\n",
    "        return None"
   ]
  },
  {
   "cell_type": "code",
   "execution_count": 13,
   "metadata": {},
   "outputs": [],
   "source": [
    "def prompt_user(key_number):\n",
    "    knum = str(key_number)\n",
    "    test_word = test_questions[knum]\n",
    "    print(f'enter a word that aligns with you: {test_word}')\n",
    "    "
   ]
  },
  {
   "cell_type": "code",
   "execution_count": 14,
   "metadata": {},
   "outputs": [
    {
     "data": {
      "text/plain": [
       "'\\nnum_questions = 24\\nfor i in range(1, num_questions+1):\\n    prompt_user(i)\\n    check answer key\\n    get score\\n    append score to list\\n'"
      ]
     },
     "execution_count": 14,
     "metadata": {},
     "output_type": "execute_result"
    }
   ],
   "source": [
    "'''\n",
    "num_questions = 24\n",
    "for i in range(1, num_questions+1):\n",
    "    prompt_user(i)\n",
    "    check answer key\n",
    "    get score\n",
    "    append score to list\n",
    "'''"
   ]
  },
  {
   "cell_type": "code",
   "execution_count": 19,
   "metadata": {},
   "outputs": [],
   "source": [
    "class UserInput:\n",
    "\n",
    "#function to record user answers from test\n",
    "\n",
    "    def __init__(self, tester_answer):\n",
    "        self.tester_answer = input()\n",
    "\n",
    "    def __str__(self):\n",
    "        return f\"user input is {self.tester_answer}\""
   ]
  }
 ],
 "metadata": {
  "kernelspec": {
   "display_name": "base",
   "language": "python",
   "name": "python3"
  },
  "language_info": {
   "codemirror_mode": {
    "name": "ipython",
    "version": 3
   },
   "file_extension": ".py",
   "mimetype": "text/x-python",
   "name": "python",
   "nbconvert_exporter": "python",
   "pygments_lexer": "ipython3",
   "version": "3.11.5"
  }
 },
 "nbformat": 4,
 "nbformat_minor": 2
}
